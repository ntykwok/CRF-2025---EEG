{
 "cells": [
  {
   "cell_type": "code",
   "execution_count": 1,
   "id": "88c2481f",
   "metadata": {},
   "outputs": [
    {
     "name": "stderr",
     "output_type": "stream",
     "text": [
      "Processing subjects:   0%|          | 0/10 [00:00<?, ?it/s]"
     ]
    },
    {
     "name": "stdout",
     "output_type": "stream",
     "text": [
      "Extracting parameters from ourdata/data/sub106/session1.vhdr...\n",
      "Setting channel info structure...\n",
      "Reading 0 ... 1372335  =      0.000 ...  5489.340 secs...\n",
      "Filtering raw data in 1 contiguous segment\n",
      "Setting up band-pass filter from 0.3 - 45 Hz\n",
      "\n",
      "FIR filter parameters\n",
      "---------------------\n",
      "Designing a one-pass, zero-phase, non-causal bandpass filter:\n",
      "- Windowed time-domain design (firwin) method\n",
      "- Hamming window with 0.0194 passband ripple and 53 dB stopband attenuation\n",
      "- Lower passband edge: 0.30\n",
      "- Lower transition bandwidth: 0.30 Hz (-6 dB cutoff frequency: 0.15 Hz)\n",
      "- Upper passband edge: 45.00 Hz\n",
      "- Upper transition bandwidth: 5.00 Hz (-6 dB cutoff frequency: 47.50 Hz)\n",
      "- Filter length: 1101 samples (11.010 s)\n",
      "\n",
      "NOTE: pick_channels() is a legacy function. New code should use inst.pick(...).\n",
      "Error processing subject 106, session 1: SpindlesResults.plot_detection() got an unexpected keyword argument 'ax'\n",
      "Extracting parameters from ourdata/data/sub106/session2.vhdr...\n",
      "Setting channel info structure...\n",
      "Reading 0 ... 1362351  =      0.000 ...  5449.404 secs...\n",
      "Filtering raw data in 1 contiguous segment\n",
      "Setting up band-pass filter from 0.3 - 45 Hz\n",
      "\n",
      "FIR filter parameters\n",
      "---------------------\n",
      "Designing a one-pass, zero-phase, non-causal bandpass filter:\n",
      "- Windowed time-domain design (firwin) method\n",
      "- Hamming window with 0.0194 passband ripple and 53 dB stopband attenuation\n",
      "- Lower passband edge: 0.30\n",
      "- Lower transition bandwidth: 0.30 Hz (-6 dB cutoff frequency: 0.15 Hz)\n",
      "- Upper passband edge: 45.00 Hz\n",
      "- Upper transition bandwidth: 5.00 Hz (-6 dB cutoff frequency: 47.50 Hz)\n",
      "- Filter length: 1101 samples (11.010 s)\n",
      "\n",
      "NOTE: pick_channels() is a legacy function. New code should use inst.pick(...).\n"
     ]
    },
    {
     "name": "stderr",
     "output_type": "stream",
     "text": [
      "Processing subjects:  10%|█         | 1/10 [00:03<00:27,  3.03s/it]"
     ]
    },
    {
     "name": "stdout",
     "output_type": "stream",
     "text": [
      "Error processing subject 106, session 2: SpindlesResults.plot_detection() got an unexpected keyword argument 'ax'\n",
      "Extracting parameters from ourdata/data/sub107/session1.vhdr...\n",
      "Setting channel info structure...\n",
      "Reading 0 ... 1370127  =      0.000 ...  5480.508 secs...\n",
      "Filtering raw data in 1 contiguous segment\n",
      "Setting up band-pass filter from 0.3 - 45 Hz\n",
      "\n",
      "FIR filter parameters\n",
      "---------------------\n",
      "Designing a one-pass, zero-phase, non-causal bandpass filter:\n",
      "- Windowed time-domain design (firwin) method\n",
      "- Hamming window with 0.0194 passband ripple and 53 dB stopband attenuation\n",
      "- Lower passband edge: 0.30\n",
      "- Lower transition bandwidth: 0.30 Hz (-6 dB cutoff frequency: 0.15 Hz)\n",
      "- Upper passband edge: 45.00 Hz\n",
      "- Upper transition bandwidth: 5.00 Hz (-6 dB cutoff frequency: 47.50 Hz)\n",
      "- Filter length: 1101 samples (11.010 s)\n",
      "\n",
      "NOTE: pick_channels() is a legacy function. New code should use inst.pick(...).\n",
      "Error processing subject 107, session 1: SpindlesResults.plot_detection() got an unexpected keyword argument 'ax'\n",
      "Extracting parameters from ourdata/data/sub107/session2.vhdr...\n",
      "Setting channel info structure...\n",
      "Reading 0 ... 1355855  =      0.000 ...  5423.420 secs...\n",
      "Filtering raw data in 1 contiguous segment\n",
      "Setting up band-pass filter from 0.3 - 45 Hz\n",
      "\n",
      "FIR filter parameters\n",
      "---------------------\n",
      "Designing a one-pass, zero-phase, non-causal bandpass filter:\n",
      "- Windowed time-domain design (firwin) method\n",
      "- Hamming window with 0.0194 passband ripple and 53 dB stopband attenuation\n",
      "- Lower passband edge: 0.30\n",
      "- Lower transition bandwidth: 0.30 Hz (-6 dB cutoff frequency: 0.15 Hz)\n",
      "- Upper passband edge: 45.00 Hz\n",
      "- Upper transition bandwidth: 5.00 Hz (-6 dB cutoff frequency: 47.50 Hz)\n",
      "- Filter length: 1101 samples (11.010 s)\n",
      "\n",
      "NOTE: pick_channels() is a legacy function. New code should use inst.pick(...).\n"
     ]
    },
    {
     "name": "stderr",
     "output_type": "stream",
     "text": [
      "Processing subjects:  20%|██        | 2/10 [00:05<00:23,  2.97s/it]"
     ]
    },
    {
     "name": "stdout",
     "output_type": "stream",
     "text": [
      "Error processing subject 107, session 2: SpindlesResults.plot_detection() got an unexpected keyword argument 'ax'\n",
      "Extracting parameters from ourdata/data/sub114/session1.vhdr...\n",
      "Setting channel info structure...\n",
      "Reading 0 ... 1360207  =      0.000 ...  5440.828 secs...\n",
      "Filtering raw data in 1 contiguous segment\n",
      "Setting up band-pass filter from 0.3 - 45 Hz\n",
      "\n",
      "FIR filter parameters\n",
      "---------------------\n",
      "Designing a one-pass, zero-phase, non-causal bandpass filter:\n",
      "- Windowed time-domain design (firwin) method\n",
      "- Hamming window with 0.0194 passband ripple and 53 dB stopband attenuation\n",
      "- Lower passband edge: 0.30\n",
      "- Lower transition bandwidth: 0.30 Hz (-6 dB cutoff frequency: 0.15 Hz)\n",
      "- Upper passband edge: 45.00 Hz\n",
      "- Upper transition bandwidth: 5.00 Hz (-6 dB cutoff frequency: 47.50 Hz)\n",
      "- Filter length: 1101 samples (11.010 s)\n",
      "\n",
      "NOTE: pick_channels() is a legacy function. New code should use inst.pick(...).\n",
      "Error processing subject 114, session 1: SpindlesResults.plot_detection() got an unexpected keyword argument 'ax'\n",
      "Extracting parameters from ourdata/data/sub114/session2.vhdr...\n",
      "Setting channel info structure...\n",
      "Reading 0 ... 1352815  =      0.000 ...  5411.260 secs...\n",
      "Filtering raw data in 1 contiguous segment\n",
      "Setting up band-pass filter from 0.3 - 45 Hz\n",
      "\n",
      "FIR filter parameters\n",
      "---------------------\n",
      "Designing a one-pass, zero-phase, non-causal bandpass filter:\n",
      "- Windowed time-domain design (firwin) method\n",
      "- Hamming window with 0.0194 passband ripple and 53 dB stopband attenuation\n",
      "- Lower passband edge: 0.30\n",
      "- Lower transition bandwidth: 0.30 Hz (-6 dB cutoff frequency: 0.15 Hz)\n",
      "- Upper passband edge: 45.00 Hz\n",
      "- Upper transition bandwidth: 5.00 Hz (-6 dB cutoff frequency: 47.50 Hz)\n",
      "- Filter length: 1101 samples (11.010 s)\n",
      "\n",
      "NOTE: pick_channels() is a legacy function. New code should use inst.pick(...).\n"
     ]
    },
    {
     "name": "stderr",
     "output_type": "stream",
     "text": [
      "Processing subjects:  30%|███       | 3/10 [00:08<00:20,  2.89s/it]"
     ]
    },
    {
     "name": "stdout",
     "output_type": "stream",
     "text": [
      "Error processing subject 114, session 2: SpindlesResults.plot_detection() got an unexpected keyword argument 'ax'\n",
      "Extracting parameters from ourdata/data/sub118/session1.vhdr...\n",
      "Setting channel info structure...\n",
      "Reading 0 ... 1354783  =      0.000 ...  5419.132 secs...\n",
      "Filtering raw data in 1 contiguous segment\n",
      "Setting up band-pass filter from 0.3 - 45 Hz\n",
      "\n",
      "FIR filter parameters\n",
      "---------------------\n",
      "Designing a one-pass, zero-phase, non-causal bandpass filter:\n",
      "- Windowed time-domain design (firwin) method\n",
      "- Hamming window with 0.0194 passband ripple and 53 dB stopband attenuation\n",
      "- Lower passband edge: 0.30\n",
      "- Lower transition bandwidth: 0.30 Hz (-6 dB cutoff frequency: 0.15 Hz)\n",
      "- Upper passband edge: 45.00 Hz\n",
      "- Upper transition bandwidth: 5.00 Hz (-6 dB cutoff frequency: 47.50 Hz)\n",
      "- Filter length: 1101 samples (11.010 s)\n",
      "\n",
      "NOTE: pick_channels() is a legacy function. New code should use inst.pick(...).\n",
      "Error processing subject 118, session 1: SpindlesResults.plot_detection() got an unexpected keyword argument 'ax'\n",
      "Extracting parameters from ourdata/data/sub118/session2.vhdr...\n",
      "Setting channel info structure...\n",
      "Reading 0 ... 1355535  =      0.000 ...  5422.140 secs...\n",
      "Filtering raw data in 1 contiguous segment\n",
      "Setting up band-pass filter from 0.3 - 45 Hz\n",
      "\n",
      "FIR filter parameters\n",
      "---------------------\n",
      "Designing a one-pass, zero-phase, non-causal bandpass filter:\n",
      "- Windowed time-domain design (firwin) method\n",
      "- Hamming window with 0.0194 passband ripple and 53 dB stopband attenuation\n",
      "- Lower passband edge: 0.30\n",
      "- Lower transition bandwidth: 0.30 Hz (-6 dB cutoff frequency: 0.15 Hz)\n",
      "- Upper passband edge: 45.00 Hz\n",
      "- Upper transition bandwidth: 5.00 Hz (-6 dB cutoff frequency: 47.50 Hz)\n",
      "- Filter length: 1101 samples (11.010 s)\n",
      "\n",
      "NOTE: pick_channels() is a legacy function. New code should use inst.pick(...).\n"
     ]
    },
    {
     "name": "stderr",
     "output_type": "stream",
     "text": [
      "Processing subjects:  40%|████      | 4/10 [00:12<00:18,  3.04s/it]"
     ]
    },
    {
     "name": "stdout",
     "output_type": "stream",
     "text": [
      "Error processing subject 118, session 2: SpindlesResults.plot_detection() got an unexpected keyword argument 'ax'\n",
      "Extracting parameters from ourdata/data/sub123/session1.vhdr...\n",
      "Setting channel info structure...\n",
      "Reading 0 ... 1368655  =      0.000 ...  5474.620 secs...\n",
      "Filtering raw data in 1 contiguous segment\n",
      "Setting up band-pass filter from 0.3 - 45 Hz\n",
      "\n",
      "FIR filter parameters\n",
      "---------------------\n",
      "Designing a one-pass, zero-phase, non-causal bandpass filter:\n",
      "- Windowed time-domain design (firwin) method\n",
      "- Hamming window with 0.0194 passband ripple and 53 dB stopband attenuation\n",
      "- Lower passband edge: 0.30\n",
      "- Lower transition bandwidth: 0.30 Hz (-6 dB cutoff frequency: 0.15 Hz)\n",
      "- Upper passband edge: 45.00 Hz\n",
      "- Upper transition bandwidth: 5.00 Hz (-6 dB cutoff frequency: 47.50 Hz)\n",
      "- Filter length: 1101 samples (11.010 s)\n",
      "\n",
      "NOTE: pick_channels() is a legacy function. New code should use inst.pick(...).\n",
      "Error processing subject 123, session 1: SpindlesResults.plot_detection() got an unexpected keyword argument 'ax'\n",
      "Extracting parameters from ourdata/data/sub123/session2.vhdr...\n",
      "Setting channel info structure...\n",
      "Reading 0 ... 1355583  =      0.000 ...  5422.332 secs...\n",
      "Filtering raw data in 1 contiguous segment\n",
      "Setting up band-pass filter from 0.3 - 45 Hz\n",
      "\n",
      "FIR filter parameters\n",
      "---------------------\n",
      "Designing a one-pass, zero-phase, non-causal bandpass filter:\n",
      "- Windowed time-domain design (firwin) method\n",
      "- Hamming window with 0.0194 passband ripple and 53 dB stopband attenuation\n",
      "- Lower passband edge: 0.30\n",
      "- Lower transition bandwidth: 0.30 Hz (-6 dB cutoff frequency: 0.15 Hz)\n",
      "- Upper passband edge: 45.00 Hz\n",
      "- Upper transition bandwidth: 5.00 Hz (-6 dB cutoff frequency: 47.50 Hz)\n",
      "- Filter length: 1101 samples (11.010 s)\n",
      "\n",
      "NOTE: pick_channels() is a legacy function. New code should use inst.pick(...).\n"
     ]
    },
    {
     "name": "stderr",
     "output_type": "stream",
     "text": [
      "Processing subjects:  50%|█████     | 5/10 [00:14<00:15,  3.00s/it]"
     ]
    },
    {
     "name": "stdout",
     "output_type": "stream",
     "text": [
      "Error processing subject 123, session 2: SpindlesResults.plot_detection() got an unexpected keyword argument 'ax'\n",
      "Extracting parameters from ourdata/data/sub205/session1.vhdr...\n",
      "Setting channel info structure...\n",
      "Reading 0 ... 1360735  =      0.000 ...  5442.940 secs...\n",
      "Filtering raw data in 1 contiguous segment\n",
      "Setting up band-pass filter from 0.3 - 45 Hz\n",
      "\n",
      "FIR filter parameters\n",
      "---------------------\n",
      "Designing a one-pass, zero-phase, non-causal bandpass filter:\n",
      "- Windowed time-domain design (firwin) method\n",
      "- Hamming window with 0.0194 passband ripple and 53 dB stopband attenuation\n",
      "- Lower passband edge: 0.30\n",
      "- Lower transition bandwidth: 0.30 Hz (-6 dB cutoff frequency: 0.15 Hz)\n",
      "- Upper passband edge: 45.00 Hz\n",
      "- Upper transition bandwidth: 5.00 Hz (-6 dB cutoff frequency: 47.50 Hz)\n",
      "- Filter length: 1101 samples (11.010 s)\n",
      "\n",
      "NOTE: pick_channels() is a legacy function. New code should use inst.pick(...).\n",
      "Error processing subject 205, session 1: SpindlesResults.plot_detection() got an unexpected keyword argument 'ax'\n",
      "Extracting parameters from ourdata/data/sub205/session2.vhdr...\n",
      "Setting channel info structure...\n",
      "Reading 0 ... 1361519  =      0.000 ...  5446.076 secs...\n",
      "Filtering raw data in 1 contiguous segment\n",
      "Setting up band-pass filter from 0.3 - 45 Hz\n",
      "\n",
      "FIR filter parameters\n",
      "---------------------\n",
      "Designing a one-pass, zero-phase, non-causal bandpass filter:\n",
      "- Windowed time-domain design (firwin) method\n",
      "- Hamming window with 0.0194 passband ripple and 53 dB stopband attenuation\n",
      "- Lower passband edge: 0.30\n",
      "- Lower transition bandwidth: 0.30 Hz (-6 dB cutoff frequency: 0.15 Hz)\n",
      "- Upper passband edge: 45.00 Hz\n",
      "- Upper transition bandwidth: 5.00 Hz (-6 dB cutoff frequency: 47.50 Hz)\n",
      "- Filter length: 1101 samples (11.010 s)\n",
      "\n",
      "NOTE: pick_channels() is a legacy function. New code should use inst.pick(...).\n"
     ]
    },
    {
     "name": "stderr",
     "output_type": "stream",
     "text": [
      "Processing subjects:  60%|██████    | 6/10 [00:17<00:11,  2.93s/it]"
     ]
    },
    {
     "name": "stdout",
     "output_type": "stream",
     "text": [
      "Error processing subject 205, session 2: SpindlesResults.plot_detection() got an unexpected keyword argument 'ax'\n",
      "Extracting parameters from ourdata/data/sub206/session1.vhdr...\n",
      "Setting channel info structure...\n",
      "Reading 0 ... 1295375  =      0.000 ...  5181.500 secs...\n",
      "Filtering raw data in 1 contiguous segment\n",
      "Setting up band-pass filter from 0.3 - 45 Hz\n",
      "\n",
      "FIR filter parameters\n",
      "---------------------\n",
      "Designing a one-pass, zero-phase, non-causal bandpass filter:\n",
      "- Windowed time-domain design (firwin) method\n",
      "- Hamming window with 0.0194 passband ripple and 53 dB stopband attenuation\n",
      "- Lower passband edge: 0.30\n",
      "- Lower transition bandwidth: 0.30 Hz (-6 dB cutoff frequency: 0.15 Hz)\n",
      "- Upper passband edge: 45.00 Hz\n",
      "- Upper transition bandwidth: 5.00 Hz (-6 dB cutoff frequency: 47.50 Hz)\n",
      "- Filter length: 1101 samples (11.010 s)\n",
      "\n",
      "NOTE: pick_channels() is a legacy function. New code should use inst.pick(...).\n",
      "Error processing subject 206, session 1: SpindlesResults.plot_detection() got an unexpected keyword argument 'ax'\n",
      "Extracting parameters from ourdata/data/sub206/session2.vhdr...\n",
      "Setting channel info structure...\n",
      "Reading 0 ... 1476751  =      0.000 ...  5907.004 secs...\n",
      "Filtering raw data in 1 contiguous segment\n",
      "Setting up band-pass filter from 0.3 - 45 Hz\n",
      "\n",
      "FIR filter parameters\n",
      "---------------------\n",
      "Designing a one-pass, zero-phase, non-causal bandpass filter:\n",
      "- Windowed time-domain design (firwin) method\n",
      "- Hamming window with 0.0194 passband ripple and 53 dB stopband attenuation\n",
      "- Lower passband edge: 0.30\n",
      "- Lower transition bandwidth: 0.30 Hz (-6 dB cutoff frequency: 0.15 Hz)\n",
      "- Upper passband edge: 45.00 Hz\n",
      "- Upper transition bandwidth: 5.00 Hz (-6 dB cutoff frequency: 47.50 Hz)\n",
      "- Filter length: 1101 samples (11.010 s)\n",
      "\n",
      "NOTE: pick_channels() is a legacy function. New code should use inst.pick(...).\n"
     ]
    },
    {
     "name": "stderr",
     "output_type": "stream",
     "text": [
      "Processing subjects:  70%|███████   | 7/10 [00:20<00:08,  2.93s/it]"
     ]
    },
    {
     "name": "stdout",
     "output_type": "stream",
     "text": [
      "Error processing subject 206, session 2: SpindlesResults.plot_detection() got an unexpected keyword argument 'ax'\n",
      "Extracting parameters from ourdata/data/sub208/session1.vhdr...\n",
      "Setting channel info structure...\n",
      "Reading 0 ... 1355775  =      0.000 ...  5423.100 secs...\n",
      "Filtering raw data in 1 contiguous segment\n",
      "Setting up band-pass filter from 0.3 - 45 Hz\n",
      "\n",
      "FIR filter parameters\n",
      "---------------------\n",
      "Designing a one-pass, zero-phase, non-causal bandpass filter:\n",
      "- Windowed time-domain design (firwin) method\n",
      "- Hamming window with 0.0194 passband ripple and 53 dB stopband attenuation\n",
      "- Lower passband edge: 0.30\n",
      "- Lower transition bandwidth: 0.30 Hz (-6 dB cutoff frequency: 0.15 Hz)\n",
      "- Upper passband edge: 45.00 Hz\n",
      "- Upper transition bandwidth: 5.00 Hz (-6 dB cutoff frequency: 47.50 Hz)\n",
      "- Filter length: 1101 samples (11.010 s)\n",
      "\n",
      "NOTE: pick_channels() is a legacy function. New code should use inst.pick(...).\n",
      "Error processing subject 208, session 1: SpindlesResults.plot_detection() got an unexpected keyword argument 'ax'\n",
      "Extracting parameters from ourdata/data/sub208/session2.vhdr...\n",
      "Setting channel info structure...\n",
      "Reading 0 ... 1356319  =      0.000 ...  5425.276 secs...\n",
      "Filtering raw data in 1 contiguous segment\n",
      "Setting up band-pass filter from 0.3 - 45 Hz\n",
      "\n",
      "FIR filter parameters\n",
      "---------------------\n",
      "Designing a one-pass, zero-phase, non-causal bandpass filter:\n",
      "- Windowed time-domain design (firwin) method\n",
      "- Hamming window with 0.0194 passband ripple and 53 dB stopband attenuation\n",
      "- Lower passband edge: 0.30\n",
      "- Lower transition bandwidth: 0.30 Hz (-6 dB cutoff frequency: 0.15 Hz)\n",
      "- Upper passband edge: 45.00 Hz\n",
      "- Upper transition bandwidth: 5.00 Hz (-6 dB cutoff frequency: 47.50 Hz)\n",
      "- Filter length: 1101 samples (11.010 s)\n",
      "\n",
      "NOTE: pick_channels() is a legacy function. New code should use inst.pick(...).\n"
     ]
    },
    {
     "name": "stderr",
     "output_type": "stream",
     "text": [
      "Processing subjects:  80%|████████  | 8/10 [00:23<00:05,  2.89s/it]"
     ]
    },
    {
     "name": "stdout",
     "output_type": "stream",
     "text": [
      "Error processing subject 208, session 2: SpindlesResults.plot_detection() got an unexpected keyword argument 'ax'\n",
      "Extracting parameters from ourdata/data/sub220/session1.vhdr...\n",
      "Setting channel info structure...\n",
      "Reading 0 ... 181759  =      0.000 ...   727.036 secs...\n",
      "Filtering raw data in 1 contiguous segment\n",
      "Setting up band-pass filter from 0.3 - 45 Hz\n",
      "\n",
      "FIR filter parameters\n",
      "---------------------\n",
      "Designing a one-pass, zero-phase, non-causal bandpass filter:\n",
      "- Windowed time-domain design (firwin) method\n",
      "- Hamming window with 0.0194 passband ripple and 53 dB stopband attenuation\n",
      "- Lower passband edge: 0.30\n",
      "- Lower transition bandwidth: 0.30 Hz (-6 dB cutoff frequency: 0.15 Hz)\n",
      "- Upper passband edge: 45.00 Hz\n",
      "- Upper transition bandwidth: 5.00 Hz (-6 dB cutoff frequency: 47.50 Hz)\n",
      "- Filter length: 1101 samples (11.010 s)\n",
      "\n",
      "NOTE: pick_channels() is a legacy function. New code should use inst.pick(...).\n",
      "Error processing subject 220, session 1: SpindlesResults.plot_detection() got an unexpected keyword argument 'ax'\n",
      "Extracting parameters from ourdata/data/sub220/session2.vhdr...\n",
      "Setting channel info structure...\n",
      "Reading 0 ... 1352959  =      0.000 ...  5411.836 secs...\n",
      "Filtering raw data in 1 contiguous segment\n",
      "Setting up band-pass filter from 0.3 - 45 Hz\n",
      "\n",
      "FIR filter parameters\n",
      "---------------------\n",
      "Designing a one-pass, zero-phase, non-causal bandpass filter:\n",
      "- Windowed time-domain design (firwin) method\n",
      "- Hamming window with 0.0194 passband ripple and 53 dB stopband attenuation\n",
      "- Lower passband edge: 0.30\n",
      "- Lower transition bandwidth: 0.30 Hz (-6 dB cutoff frequency: 0.15 Hz)\n",
      "- Upper passband edge: 45.00 Hz\n",
      "- Upper transition bandwidth: 5.00 Hz (-6 dB cutoff frequency: 47.50 Hz)\n",
      "- Filter length: 1101 samples (11.010 s)\n",
      "\n",
      "NOTE: pick_channels() is a legacy function. New code should use inst.pick(...).\n"
     ]
    },
    {
     "name": "stderr",
     "output_type": "stream",
     "text": [
      "Processing subjects:  90%|█████████ | 9/10 [00:25<00:02,  2.49s/it]"
     ]
    },
    {
     "name": "stdout",
     "output_type": "stream",
     "text": [
      "Error processing subject 220, session 2: SpindlesResults.plot_detection() got an unexpected keyword argument 'ax'\n",
      "Extracting parameters from ourdata/data/sub224/session1.vhdr...\n",
      "Setting channel info structure...\n",
      "Reading 0 ... 338383  =      0.000 ...  1353.532 secs...\n",
      "Filtering raw data in 1 contiguous segment\n",
      "Setting up band-pass filter from 0.3 - 45 Hz\n",
      "\n",
      "FIR filter parameters\n",
      "---------------------\n",
      "Designing a one-pass, zero-phase, non-causal bandpass filter:\n",
      "- Windowed time-domain design (firwin) method\n",
      "- Hamming window with 0.0194 passband ripple and 53 dB stopband attenuation\n",
      "- Lower passband edge: 0.30\n",
      "- Lower transition bandwidth: 0.30 Hz (-6 dB cutoff frequency: 0.15 Hz)\n",
      "- Upper passband edge: 45.00 Hz\n",
      "- Upper transition bandwidth: 5.00 Hz (-6 dB cutoff frequency: 47.50 Hz)\n",
      "- Filter length: 1101 samples (11.010 s)\n",
      "\n",
      "NOTE: pick_channels() is a legacy function. New code should use inst.pick(...).\n",
      "Error processing subject 224, session 1: SpindlesResults.plot_detection() got an unexpected keyword argument 'ax'\n",
      "Extracting parameters from ourdata/data/sub224/session2.vhdr...\n",
      "Setting channel info structure...\n",
      "Reading 0 ... 1356351  =      0.000 ...  5425.404 secs...\n",
      "Filtering raw data in 1 contiguous segment\n",
      "Setting up band-pass filter from 0.3 - 45 Hz\n",
      "\n",
      "FIR filter parameters\n",
      "---------------------\n",
      "Designing a one-pass, zero-phase, non-causal bandpass filter:\n",
      "- Windowed time-domain design (firwin) method\n",
      "- Hamming window with 0.0194 passband ripple and 53 dB stopband attenuation\n",
      "- Lower passband edge: 0.30\n",
      "- Lower transition bandwidth: 0.30 Hz (-6 dB cutoff frequency: 0.15 Hz)\n",
      "- Upper passband edge: 45.00 Hz\n",
      "- Upper transition bandwidth: 5.00 Hz (-6 dB cutoff frequency: 47.50 Hz)\n",
      "- Filter length: 1101 samples (11.010 s)\n",
      "\n",
      "NOTE: pick_channels() is a legacy function. New code should use inst.pick(...).\n"
     ]
    },
    {
     "name": "stderr",
     "output_type": "stream",
     "text": [
      "Processing subjects: 100%|██████████| 10/10 [00:26<00:00,  2.66s/it]"
     ]
    },
    {
     "name": "stdout",
     "output_type": "stream",
     "text": [
      "Error processing subject 224, session 2: SpindlesResults.plot_detection() got an unexpected keyword argument 'ax'\n",
      "\n",
      "=== Spindle Detection Summary ===\n",
      "Total subjects processed: 10\n",
      "Total sessions processed: 10\n",
      "Average spindle density (Cz): 0.57 spindles/min\n",
      "Average spindle density (C3): nan spindles/min\n"
     ]
    },
    {
     "name": "stderr",
     "output_type": "stream",
     "text": [
      "\n"
     ]
    },
    {
     "data": {
      "image/png": "[encoded data removed]",
      "text/plain": [
       "<Figure size 1200x600 with 1 Axes>"
      ]
     },
     "metadata": {},
     "output_type": "display_data"
    },
    {
     "data": {
      "image/png": "[encoded data removed]",
      "text/plain": [
       "<Figure size 1200x600 with 1 Axes>"
      ]
     },
     "metadata": {},
     "output_type": "display_data"
    },
    {
     "data": {
      "image/png": "[encoded data removed]",
      "text/plain": [
       "<Figure size 1200x600 with 1 Axes>"
      ]
     },
     "metadata": {},
     "output_type": "display_data"
    },
    {
     "data": {
      "image/png": "[encoded data removed]",
      "text/plain": [
       "<Figure size 1200x600 with 1 Axes>"
      ]
     },
     "metadata": {},
     "output_type": "display_data"
    },
    {
     "data": {
      "image/png": "[encoded data removed]",
      "text/plain": [
       "<Figure size 1200x600 with 1 Axes>"
      ]
     },
     "metadata": {},
     "output_type": "display_data"
    },
    {
     "data": {
      "image/png": "[encoded data removed]",
      "text/plain": [
       "<Figure size 1200x600 with 1 Axes>"
      ]
     },
     "metadata": {},
     "output_type": "display_data"
    },
    {
     "data": {
      "image/png": "[encoded data removed]",
      "text/plain": [
       "<Figure size 1200x600 with 1 Axes>"
      ]
     },
     "metadata": {},
     "output_type": "display_data"
    },
    {
     "data": {
      "image/png": "[encoded data removed]",
      "text/plain": [
       "<Figure size 1200x600 with 1 Axes>"
      ]
     },
     "metadata": {},
     "output_type": "display_data"
    },
    {
     "data": {
      "image/png": "[encoded data removed]",
      "text/plain": [
       "<Figure size 1200x600 with 1 Axes>"
      ]
     },
     "metadata": {},
     "output_type": "display_data"
    },
    {
     "data": {
      "image/png": "[encoded data removed]",
      "text/plain": [
       "<Figure size 1200x600 with 1 Axes>"
      ]
     },
     "metadata": {},
     "output_type": "display_data"
    },
    {
     "data": {
      "image/png": "[encoded data removed]",
      "text/plain": [
       "<Figure size 1200x600 with 1 Axes>"
      ]
     },
     "metadata": {},
     "output_type": "display_data"
    },
    {
     "data": {
      "image/png": "[encoded data removed]",
      "text/plain": [
       "<Figure size 1200x600 with 1 Axes>"
      ]
     },
     "metadata": {},
     "output_type": "display_data"
    },
    {
     "data": {
      "image/png": "[encoded data removed]",
      "text/plain": [
       "<Figure size 1200x600 with 1 Axes>"
      ]
     },
     "metadata": {},
     "output_type": "display_data"
    },
    {
     "data": {
      "image/png": "[encoded data removed]",
      "text/plain": [
       "<Figure size 1200x600 with 1 Axes>"
      ]
     },
     "metadata": {},
     "output_type": "display_data"
    },
    {
     "data": {
      "image/png": "[encoded data removed]",
      "text/plain": [
       "<Figure size 1200x600 with 1 Axes>"
      ]
     },
     "metadata": {},
     "output_type": "display_data"
    },
    {
     "data": {
      "image/png": "[encoded data removed]",
      "text/plain": [
       "<Figure size 1200x600 with 1 Axes>"
      ]
     },
     "metadata": {},
     "output_type": "display_data"
    },
    {
     "data": {
      "image/png": "[encoded data removed]",
      "text/plain": [
       "<Figure size 1200x600 with 1 Axes>"
      ]
     },
     "metadata": {},
     "output_type": "display_data"
    },
    {
     "data": {
      "image/png": "[encoded data removed]",
      "text/plain": [
       "<Figure size 1200x600 with 1 Axes>"
      ]
     },
     "metadata": {},
     "output_type": "display_data"
    },
    {
     "data": {
      "image/png": "[encoded data removed]",
      "text/plain": [
       "<Figure size 1200x600 with 1 Axes>"
      ]
     },
     "metadata": {},
     "output_type": "display_data"
    },
    {
     "data": {
      "image/png": "[encoded data removed]",
      "text/plain": [
       "<Figure size 1200x600 with 1 Axes>"
      ]
     },
     "metadata": {},
     "output_type": "display_data"
    }
   ],
   "source": [
    "import mne\n",
    "import yasa\n",
    "import pandas as pd\n",
    "import numpy as np\n",
    "import matplotlib.pyplot as plt\n",
    "import seaborn as sns\n",
    "from tqdm import tqdm\n",
    "import os\n",
    "import warnings\n",
    "warnings.filterwarnings('ignore')\n",
    "\n",
    "# Set random seed for reproducibility\n",
    "np.random.seed(42)\n",
    "\n",
    "# Define subjects and sessions\n",
    "subjects = [106, 107, 114, 118, 123, 205, 206, 208, 220, 224]\n",
    "sessions = [1, 2]\n",
    "\n",
    "# Initialize results DataFrame for spindles\n",
    "spindle_results = pd.DataFrame(columns=[\n",
    "    'subject', 'session', 'channel', \n",
    "    'spindle_count', 'spindle_density', 'mean_duration', \n",
    "    'mean_frequency', 'mean_amplitude'\n",
    "])\n",
    "\n",
    "# Process all subjects and sessions\n",
    "for subject in tqdm(subjects, desc=\"Processing subjects\"):\n",
    "    for session in sessions:\n",
    "        try:\n",
    "            # Construct file path\n",
    "            eeg_path = f'ourdata/data/sub{subject}/session{session}.vhdr'\n",
    "            \n",
    "            # Check if file exists\n",
    "            if not os.path.exists(eeg_path):\n",
    "                continue\n",
    "                \n",
    "            # Load EEG data\n",
    "            raw = mne.io.read_raw_brainvision(eeg_path, preload=True)\n",
    "            \n",
    "            # Preprocess\n",
    "            raw.resample(100)  # Downsample to 100 Hz for faster processing\n",
    "            raw.filter(0.3, 45)  # Bandpass filter\n",
    "            sf = raw.info['sfreq']\n",
    "            \n",
    "            # Drop non-EEG channels if they exist\n",
    "            channels_to_drop = ['EOG1', 'EOG2', 'EMG1', 'EMG2', 'Aux1', 'Aux2']\n",
    "            existing_channels = [ch for ch in channels_to_drop if ch in raw.ch_names]\n",
    "            if existing_channels:\n",
    "                raw.drop_channels(existing_channels)\n",
    "                \n",
    "            # Get updated channel names\n",
    "            chan = raw.ch_names\n",
    "            \n",
    "            # Check if required channels exist\n",
    "            if \"Cz\" not in chan or \"C3\" not in chan:\n",
    "                continue\n",
    "                \n",
    "            # Calculate recording duration in minutes\n",
    "            recording_duration_min = len(raw) / sf / 60\n",
    "            \n",
    "            # Detect spindles on each channel of interest\n",
    "            channels_of_interest = [\"Cz\", \"C3\"]\n",
    "            \n",
    "            for channel in channels_of_interest:\n",
    "                # Create a copy with only this channel\n",
    "                raw_channel = raw.copy().pick_channels([channel])\n",
    "                \n",
    "                # Detect spindles (without hypnogram)\n",
    "                sp = yasa.spindles_detect(\n",
    "                    raw_channel,\n",
    "                    freq_sp=(12, 15),      # Spindle frequency range\n",
    "                    duration=(0.5, 2),     # Min and max duration\n",
    "                    thresh={'rel_pow': 0.2, 'corr': 0.65, 'rms': 1.5},\n",
    "                    remove_outliers=True\n",
    "                )\n",
    "                \n",
    "                # If spindles were detected\n",
    "                if sp is not None:\n",
    "                    # Get summary statistics\n",
    "                    spindle_count = len(sp.summary())\n",
    "                    spindle_density = spindle_count / recording_duration_min\n",
    "                    mean_duration = sp.summary()['Duration'].mean()\n",
    "                    mean_frequency = sp.summary()['Frequency'].mean()\n",
    "                    mean_amplitude = sp.summary()['Amplitude'].mean()\n",
    "                    \n",
    "                    # Add to results\n",
    "                    spindle_results = pd.concat([spindle_results, pd.DataFrame([{\n",
    "                        'subject': subject,\n",
    "                        'session': session,\n",
    "                        'channel': channel,\n",
    "                        'spindle_count': spindle_count,\n",
    "                        'spindle_density': spindle_density,\n",
    "                        'mean_duration': mean_duration,\n",
    "                        'mean_frequency': mean_frequency,\n",
    "                        'mean_amplitude': mean_amplitude\n",
    "                    }])], ignore_index=True)\n",
    "                    \n",
    "                    # Save individual spindle data\n",
    "                    sp_df = sp.summary()\n",
    "                    sp_df['subject'] = subject\n",
    "                    sp_df['session'] = session\n",
    "                    sp_df.to_csv(f'spindles_sub{subject}_sess{session}_{channel}.csv', index=False)\n",
    "                    \n",
    "                    # Plot a sample of detected spindles (first 5)\n",
    "                    if spindle_count > 0:\n",
    "                        fig, ax = plt.subplots(figsize=(12, 6))\n",
    "                        sp.plot_detection(ax=ax, limit=5)\n",
    "                        plt.title(f'Subject {subject}, Session {session}, Channel {channel}: Sample Spindles')\n",
    "                        plt.tight_layout()\n",
    "                        plt.savefig(f'spindles_sub{subject}_sess{session}_{channel}_sample.png', dpi=300)\n",
    "                        plt.close()\n",
    "                else:\n",
    "                    # No spindles detected\n",
    "                    spindle_results = pd.concat([spindle_results, pd.DataFrame([{\n",
    "                        'subject': subject,\n",
    "                        'session': session,\n",
    "                        'channel': channel,\n",
    "                        'spindle_count': 0,\n",
    "                        'spindle_density': 0,\n",
    "                        'mean_duration': np.nan,\n",
    "                        'mean_frequency': np.nan,\n",
    "                        'mean_amplitude': np.nan\n",
    "                    }])], ignore_index=True)\n",
    "                \n",
    "        except Exception as e:\n",
    "            print(f\"Error processing subject {subject}, session {session}: {e}\")\n",
    "            continue\n",
    "\n",
    "# Save results to CSV\n",
    "spindle_results.to_csv('spindle_detection_results.csv', index=False)\n",
    "\n",
    "# Print summary statistics\n",
    "print(\"\\n=== Spindle Detection Summary ===\")\n",
    "print(f\"Total subjects processed: {spindle_results['subject'].nunique()}\")\n",
    "print(f\"Total sessions processed: {len(spindle_results)//2}\")\n",
    "print(f\"Average spindle density (Cz): {spindle_results[spindle_results['channel']=='Cz']['spindle_density'].mean():.2f} spindles/min\")\n",
    "print(f\"Average spindle density (C3): {spindle_results[spindle_results['channel']=='C3']['spindle_density'].mean():.2f} spindles/min\")"
   ]
  },
  {
   "cell_type": "code",
   "execution_count": 2,
   "id": "6df55fa2",
   "metadata": {},
   "outputs": [],
   "source": [
    "import mne\n",
    "import numpy as np\n",
    "import pandas as pd\n",
    "import matplotlib.pyplot as plt\n",
    "import seaborn as sns\n",
    "from scipy import signal\n",
    "from scipy.fft import fft, ifft\n",
    "from scipy.signal import hilbert, butter, filtfilt, lfilter\n",
    "from tqdm import tqdm\n",
    "import os\n",
    "import warnings\n",
    "warnings.filterwarnings('ignore')\n",
    "\n",
    "class RealTimeSpindleDetector:\n",
    "    \"\"\"Real-time spindle detector for EEG data.\"\"\"\n",
    "    \n",
    "    def __init__(self, sf, channel_names, buffer_size=3.0, \n",
    "                 freq_sp=(12, 15), freq_broad=(1, 30),\n",
    "                 threshold_rel_pow=0.2, threshold_corr=0.65, threshold_rms=1.5,\n",
    "                 min_duration=0.5, max_duration=2.0):\n",
    "        \"\"\"\n",
    "        Initialize the real-time spindle detector.\n",
    "        \n",
    "        Parameters:\n",
    "        -----------\n",
    "        sf : float\n",
    "            Sampling frequency in Hz\n",
    "        channel_names : list\n",
    "            List of channel names\n",
    "        buffer_size : float\n",
    "            Size of the buffer in seconds\n",
    "        freq_sp : tuple\n",
    "            Spindle frequency range (default: 12-15 Hz)\n",
    "        freq_broad : tuple\n",
    "            Broad frequency range (default: 1-30 Hz)\n",
    "        threshold_rel_pow : float\n",
    "            Threshold for relative power\n",
    "        threshold_corr : float\n",
    "            Threshold for correlation\n",
    "        threshold_rms : float\n",
    "            Threshold for RMS\n",
    "        min_duration : float\n",
    "            Minimum spindle duration in seconds\n",
    "        max_duration : float\n",
    "            Maximum spindle duration in seconds\n",
    "        \"\"\"\n",
    "        self.sf = sf\n",
    "        self.channel_names = channel_names\n",
    "        self.n_channels = len(channel_names)\n",
    "        self.buffer_size = int(buffer_size * sf)\n",
    "        self.freq_sp = freq_sp\n",
    "        self.freq_broad = freq_broad\n",
    "        self.threshold_rel_pow = threshold_rel_pow\n",
    "        self.threshold_corr = threshold_corr\n",
    "        self.threshold_rms = threshold_rms\n",
    "        self.min_duration = min_duration\n",
    "        self.max_duration = max_duration\n",
    "        \n",
    "        # Initialize buffers\n",
    "        self.buffer = np.zeros((self.n_channels, self.buffer_size))\n",
    "        self.time_buffer = np.zeros(self.buffer_size)\n",
    "        \n",
    "        # Initialize filters\n",
    "        self.b_broad, self.a_broad = butter(2, [freq_broad[0]/(sf/2), freq_broad[1]/(sf/2)], btype='band')\n",
    "        self.b_sp, self.a_sp = butter(6, [freq_sp[0]/(sf/2), freq_sp[1]/(sf/2)], btype='band')\n",
    "        \n",
    "        # Initialize state variables\n",
    "        self.in_spindle = False\n",
    "        self.spindle_start = 0\n",
    "        self.spindle_buffer = []\n",
    "        self.detected_spindles = []\n",
    "        self.current_time = 0\n",
    "        \n",
    "        # For adaptive thresholding\n",
    "        self.rms_history = []\n",
    "        self.adaptive_rms_threshold = None\n",
    "        \n",
    "        # For visualization\n",
    "        self.detection_history = []\n",
    "        \n",
    "    def update(self, new_data, timestamps):\n",
    "        \"\"\"\n",
    "        Update the detector with new data.\n",
    "        \n",
    "        Parameters:\n",
    "        -----------\n",
    "        new_data : ndarray\n",
    "            New EEG data of shape (n_channels, n_samples)\n",
    "        timestamps : ndarray\n",
    "            Timestamps corresponding to the new data\n",
    "            \n",
    "        Returns:\n",
    "        --------\n",
    "        spindles : list\n",
    "            Newly detected spindles\n",
    "        \"\"\"\n",
    "        n_samples = new_data.shape[1]\n",
    "        \n",
    "        # Update buffer (shift old data and add new data)\n",
    "        self.buffer = np.hstack([self.buffer[:, n_samples:], new_data])\n",
    "        self.time_buffer = np.hstack([self.time_buffer[n_samples:], timestamps])\n",
    "        \n",
    "        # Update current time\n",
    "        self.current_time = timestamps[-1]\n",
    "        \n",
    "        # Process each channel\n",
    "        new_spindles = []\n",
    "        for ch_idx in range(self.n_channels):\n",
    "            # Apply filters\n",
    "            data_broad = filtfilt(self.b_broad, self.a_broad, self.buffer[ch_idx, :])\n",
    "            data_sp = filtfilt(self.b_sp, self.a_sp, self.buffer[ch_idx, :])\n",
    "            \n",
    "            # Calculate features\n",
    "            # 1. Relative power using Hilbert transform\n",
    "            analytic_broad = hilbert(data_broad)\n",
    "            analytic_sp = hilbert(data_sp)\n",
    "            power_broad = np.abs(analytic_broad)**2\n",
    "            power_sp = np.abs(analytic_sp)**2\n",
    "            rel_power = power_sp / (power_broad + 1e-10)  # Avoid division by zero\n",
    "            \n",
    "            # 2. Moving correlation\n",
    "            window_size = int(0.3 * self.sf)  # 300 ms window\n",
    "            mcorr = np.zeros_like(data_broad)\n",
    "            for i in range(window_size, len(data_broad)):\n",
    "                mcorr[i] = np.corrcoef(data_broad[i-window_size:i], data_sp[i-window_size:i])[0, 1]\n",
    "            \n",
    "            # 3. Moving RMS\n",
    "            window_size = int(0.3 * self.sf)  # 300 ms window\n",
    "            mrms = np.zeros_like(data_sp)\n",
    "            for i in range(window_size, len(data_sp)):\n",
    "                mrms[i] = np.sqrt(np.mean(data_sp[i-window_size:i]**2))\n",
    "            \n",
    "            # Update RMS history for adaptive thresholding\n",
    "            self.rms_history.extend(mrms[-n_samples:].tolist())\n",
    "            if len(self.rms_history) > int(30 * self.sf):  # Keep 30 seconds of history\n",
    "                self.rms_history = self.rms_history[-int(30 * self.sf):]\n",
    "            \n",
    "            # Calculate adaptive RMS threshold\n",
    "            if len(self.rms_history) > int(5 * self.sf):  # Need at least 5 seconds of data\n",
    "                rms_mean = np.mean(self.rms_history)\n",
    "                rms_std = np.std(self.rms_history)\n",
    "                self.adaptive_rms_threshold = rms_mean + self.threshold_rms * rms_std\n",
    "            else:\n",
    "                # Use a default threshold until we have enough data\n",
    "                self.adaptive_rms_threshold = np.mean(mrms) * 2\n",
    "            \n",
    "            # Apply thresholds\n",
    "            idx_rel_pow = rel_power > self.threshold_rel_pow\n",
    "            idx_mcorr = mcorr > self.threshold_corr\n",
    "            idx_mrms = mrms > self.adaptive_rms_threshold\n",
    "            \n",
    "            # Combine thresholds (at least 2 out of 3 criteria must be met)\n",
    "            detection = ((idx_rel_pow.astype(int) + idx_mcorr.astype(int) + idx_mrms.astype(int)) >= 2).astype(int)\n",
    "            \n",
    "            # Smooth detection with a ~100 ms window\n",
    "            w = int(0.1 * self.sf)\n",
    "            detection_smooth = np.convolve(detection, np.ones(w)/w, mode='same')\n",
    "            \n",
    "            # Store detection history for visualization\n",
    "            self.detection_history.append(detection_smooth[-n_samples:])\n",
    "            if len(self.detection_history) > 10:  # Keep only recent history\n",
    "                self.detection_history.pop(0)\n",
    "            \n",
    "            # State machine for spindle detection\n",
    "            for i in range(n_samples):\n",
    "                idx = len(self.buffer[0]) - n_samples + i  # Index in the buffer\n",
    "                \n",
    "                if not self.in_spindle and detection_smooth[idx] > 0.5:\n",
    "                    # Start of a potential spindle\n",
    "                    self.in_spindle = True\n",
    "                    self.spindle_start = self.time_buffer[idx]\n",
    "                    self.spindle_buffer = [idx]\n",
    "                elif self.in_spindle:\n",
    "                    if detection_smooth[idx] > 0.5:\n",
    "                        # Continue the spindle\n",
    "                        self.spindle_buffer.append(idx)\n",
    "                    else:\n",
    "                        # End of spindle\n",
    "                        self.in_spindle = False\n",
    "                        spindle_end = self.time_buffer[idx-1]\n",
    "                        spindle_duration = spindle_end - self.spindle_start\n",
    "                        \n",
    "                        # Check duration criteria\n",
    "                        if self.min_duration <= spindle_duration <= self.max_duration:\n",
    "                            # Valid spindle\n",
    "                            spindle_indices = self.spindle_buffer\n",
    "                            \n",
    "                            # Calculate spindle properties\n",
    "                            spindle_data = data_broad[spindle_indices]\n",
    "                            spindle_data_sp = data_sp[spindle_indices]\n",
    "                            \n",
    "                            # Detrend the signal\n",
    "                            spindle_data_detrend = signal.detrend(spindle_data)\n",
    "                            \n",
    "                            # Find peaks\n",
    "                            peaks, _ = signal.find_peaks(spindle_data_detrend, distance=int(0.06*self.sf))\n",
    "                            \n",
    "                            if len(peaks) > 0:\n",
    "                                # Calculate properties\n",
    "                                amplitude = np.ptp(spindle_data_detrend)\n",
    "                                rms = np.sqrt(np.mean(spindle_data_detrend**2))\n",
    "                                \n",
    "                                # Frequency using zero crossings\n",
    "                                zero_crossings = np.where(np.diff(np.signbit(spindle_data_sp)))[0]\n",
    "                                if len(zero_crossings) >= 2:\n",
    "                                    freq = self.sf * (len(zero_crossings) / 2) / len(spindle_data_sp)\n",
    "                                else:\n",
    "                                    freq = np.nan\n",
    "                                \n",
    "                                # Create spindle object\n",
    "                                spindle = {\n",
    "                                    'Start': self.spindle_start,\n",
    "                                    'End': spindle_end,\n",
    "                                    'Duration': spindle_duration,\n",
    "                                    'Channel': self.channel_names[ch_idx],\n",
    "                                    'Amplitude': amplitude,\n",
    "                                    'RMS': rms,\n",
    "                                    'Frequency': freq,\n",
    "                                    'Oscillations': len(peaks)\n",
    "                                }\n",
    "                                \n",
    "                                self.detected_spindles.append(spindle)\n",
    "                                new_spindles.append(spindle)\n",
    "                        \n",
    "                        # Reset spindle buffer\n",
    "                        self.spindle_buffer = []\n",
    "        \n",
    "        return new_spindles\n",
    "    \n",
    "    def get_all_spindles(self):\n",
    "        \"\"\"Get all detected spindles.\"\"\"\n",
    "        return pd.DataFrame(self.detected_spindles)\n",
    "    \n",
    "    def plot_detection(self, ax=None, channel_idx=0, duration=5.0):\n",
    "        \"\"\"\n",
    "        Plot the detection results.\n",
    "        \n",
    "        Parameters:\n",
    "        -----------\n",
    "        ax : matplotlib.axes.Axes\n",
    "            Axes to plot on\n",
    "        channel_idx : int\n",
    "            Channel index to plot\n",
    "        duration : float\n",
    "            Duration to plot in seconds\n",
    "        \"\"\"\n",
    "        if ax is None:\n",
    "            fig, ax = plt.subplots(figsize=(12, 6))\n",
    "        \n",
    "        # Get the most recent data\n",
    "        n_samples = int(duration * self.sf)\n",
    "        if n_samples > self.buffer.shape[1]:\n",
    "            n_samples = self.buffer.shape[1]\n",
    "        \n",
    "        # Time vector\n",
    "        t = self.time_buffer[-n_samples:]\n",
    "        \n",
    "        # Plot the signal\n",
    "        ax.plot(t, self.buffer[channel_idx, -n_samples:], 'k-', label='EEG')\n",
    "        \n",
    "        # Plot detection\n",
    "        if len(self.detection_history) > 0:\n",
    "            detection = np.concatenate(self.detection_history)[-n_samples:]\n",
    "            ax.plot(t, detection * np.max(self.buffer[channel_idx, -n_samples:]) * 0.8, 'r-', label='Detection')\n",
    "        \n",
    "        # Plot spindles\n",
    "        for spindle in self.detected_spindles:\n",
    "            if spindle['Channel'] == self.channel_names[channel_idx]:\n",
    "                if t[0] <= spindle['End'] and spindle['Start'] <= t[-1]:\n",
    "                    ax.axvspan(spindle['Start'], spindle['End'], alpha=0.3, color='yellow')\n",
    "        \n",
    "        ax.set_xlabel('Time (s)')\n",
    "        ax.set_ylabel('Amplitude (µV)')\n",
    "        ax.set_title(f'Real-time Spindle Detection - {self.channel_names[channel_idx]}')\n",
    "        ax.legend()\n",
    "        \n",
    "        return ax"
   ]
  },
  {
   "cell_type": "code",
   "execution_count": 5,
   "id": "186b3853",
   "metadata": {},
   "outputs": [
    {
     "name": "stderr",
     "output_type": "stream",
     "text": [
      "Processing subjects:   0%|          | 0/10 [00:00<?, ?it/s]"
     ]
    },
    {
     "name": "stdout",
     "output_type": "stream",
     "text": [
      "Extracting parameters from ourdata/data/sub106/session1.vhdr...\n",
      "Setting channel info structure...\n",
      "Reading 0 ... 1372335  =      0.000 ...  5489.340 secs...\n",
      "Filtering raw data in 1 contiguous segment\n",
      "Setting up band-pass filter from 0.3 - 45 Hz\n",
      "\n",
      "FIR filter parameters\n",
      "---------------------\n",
      "Designing a one-pass, zero-phase, non-causal bandpass filter:\n",
      "- Windowed time-domain design (firwin) method\n",
      "- Hamming window with 0.0194 passband ripple and 53 dB stopband attenuation\n",
      "- Lower passband edge: 0.30\n",
      "- Lower transition bandwidth: 0.30 Hz (-6 dB cutoff frequency: 0.15 Hz)\n",
      "- Upper passband edge: 45.00 Hz\n",
      "- Upper transition bandwidth: 5.00 Hz (-6 dB cutoff frequency: 47.50 Hz)\n",
      "- Filter length: 1101 samples (11.010 s)\n",
      "\n"
     ]
    },
    {
     "name": "stderr",
     "output_type": "stream",
     "text": []
    },
    {
     "name": "stdout",
     "output_type": "stream",
     "text": [
      "NOTE: pick_channels() is a legacy function. New code should use inst.pick(...).\n",
      "NOTE: pick_channels() is a legacy function. New code should use inst.pick(...).\n",
      "Extracting parameters from ourdata/data/sub106/session2.vhdr...\n",
      "Setting channel info structure...\n",
      "Reading 0 ... 1362351  =      0.000 ...  5449.404 secs...\n",
      "Filtering raw data in 1 contiguous segment\n",
      "Setting up band-pass filter from 0.3 - 45 Hz\n",
      "\n",
      "FIR filter parameters\n",
      "---------------------\n",
      "Designing a one-pass, zero-phase, non-causal bandpass filter:\n",
      "- Windowed time-domain design (firwin) method\n",
      "- Hamming window with 0.0194 passband ripple and 53 dB stopband attenuation\n",
      "- Lower passband edge: 0.30\n",
      "- Lower transition bandwidth: 0.30 Hz (-6 dB cutoff frequency: 0.15 Hz)\n",
      "- Upper passband edge: 45.00 Hz\n",
      "- Upper transition bandwidth: 5.00 Hz (-6 dB cutoff frequency: 47.50 Hz)\n",
      "- Filter length: 1101 samples (11.010 s)\n",
      "\n"
     ]
    },
    {
     "name": "stderr",
     "output_type": "stream",
     "text": []
    },
    {
     "name": "stdout",
     "output_type": "stream",
     "text": [
      "NOTE: pick_channels() is a legacy function. New code should use inst.pick(...).\n",
      "NOTE: pick_channels() is a legacy function. New code should use inst.pick(...).\n"
     ]
    },
    {
     "name": "stderr",
     "output_type": "stream",
     "text": [
      "Processing subjects:  10%|█         | 1/10 [02:01<18:12, 121.42s/it]"
     ]
    },
    {
     "name": "stdout",
     "output_type": "stream",
     "text": [
      "Extracting parameters from ourdata/data/sub107/session1.vhdr...\n",
      "Setting channel info structure...\n",
      "Reading 0 ... 1370127  =      0.000 ...  5480.508 secs...\n",
      "Filtering raw data in 1 contiguous segment\n",
      "Setting up band-pass filter from 0.3 - 45 Hz\n",
      "\n",
      "FIR filter parameters\n",
      "---------------------\n",
      "Designing a one-pass, zero-phase, non-causal bandpass filter:\n",
      "- Windowed time-domain design (firwin) method\n",
      "- Hamming window with 0.0194 passband ripple and 53 dB stopband attenuation\n",
      "- Lower passband edge: 0.30\n",
      "- Lower transition bandwidth: 0.30 Hz (-6 dB cutoff frequency: 0.15 Hz)\n",
      "- Upper passband edge: 45.00 Hz\n",
      "- Upper transition bandwidth: 5.00 Hz (-6 dB cutoff frequency: 47.50 Hz)\n",
      "- Filter length: 1101 samples (11.010 s)\n",
      "\n"
     ]
    },
    {
     "name": "stderr",
     "output_type": "stream",
     "text": []
    },
    {
     "name": "stdout",
     "output_type": "stream",
     "text": [
      "NOTE: pick_channels() is a legacy function. New code should use inst.pick(...).\n",
      "NOTE: pick_channels() is a legacy function. New code should use inst.pick(...).\n",
      "Extracting parameters from ourdata/data/sub107/session2.vhdr...\n",
      "Setting channel info structure...\n",
      "Reading 0 ... 1355855  =      0.000 ...  5423.420 secs...\n",
      "Filtering raw data in 1 contiguous segment\n",
      "Setting up band-pass filter from 0.3 - 45 Hz\n",
      "\n",
      "FIR filter parameters\n",
      "---------------------\n",
      "Designing a one-pass, zero-phase, non-causal bandpass filter:\n",
      "- Windowed time-domain design (firwin) method\n",
      "- Hamming window with 0.0194 passband ripple and 53 dB stopband attenuation\n",
      "- Lower passband edge: 0.30\n",
      "- Lower transition bandwidth: 0.30 Hz (-6 dB cutoff frequency: 0.15 Hz)\n",
      "- Upper passband edge: 45.00 Hz\n",
      "- Upper transition bandwidth: 5.00 Hz (-6 dB cutoff frequency: 47.50 Hz)\n",
      "- Filter length: 1101 samples (11.010 s)\n",
      "\n"
     ]
    },
    {
     "name": "stderr",
     "output_type": "stream",
     "text": []
    },
    {
     "name": "stdout",
     "output_type": "stream",
     "text": [
      "NOTE: pick_channels() is a legacy function. New code should use inst.pick(...).\n",
      "NOTE: pick_channels() is a legacy function. New code should use inst.pick(...).\n"
     ]
    },
    {
     "name": "stderr",
     "output_type": "stream",
     "text": [
      "Processing subjects:  20%|██        | 2/10 [04:06<16:29, 123.68s/it]"
     ]
    },
    {
     "name": "stdout",
     "output_type": "stream",
     "text": [
      "Extracting parameters from ourdata/data/sub114/session1.vhdr...\n",
      "Setting channel info structure...\n",
      "Reading 0 ... 1360207  =      0.000 ...  5440.828 secs...\n",
      "Filtering raw data in 1 contiguous segment\n",
      "Setting up band-pass filter from 0.3 - 45 Hz\n",
      "\n",
      "FIR filter parameters\n",
      "---------------------\n",
      "Designing a one-pass, zero-phase, non-causal bandpass filter:\n",
      "- Windowed time-domain design (firwin) method\n",
      "- Hamming window with 0.0194 passband ripple and 53 dB stopband attenuation\n",
      "- Lower passband edge: 0.30\n",
      "- Lower transition bandwidth: 0.30 Hz (-6 dB cutoff frequency: 0.15 Hz)\n",
      "- Upper passband edge: 45.00 Hz\n",
      "- Upper transition bandwidth: 5.00 Hz (-6 dB cutoff frequency: 47.50 Hz)\n",
      "- Filter length: 1101 samples (11.010 s)\n",
      "\n"
     ]
    },
    {
     "name": "stderr",
     "output_type": "stream",
     "text": []
    },
    {
     "name": "stdout",
     "output_type": "stream",
     "text": [
      "NOTE: pick_channels() is a legacy function. New code should use inst.pick(...).\n",
      "NOTE: pick_channels() is a legacy function. New code should use inst.pick(...).\n"
     ]
    },
    {
     "name": "stderr",
     "output_type": "stream",
     "text": [
      "28-Apr-25 21:38:23 | WARNING | No spindle were found in channel C3.\n",
      "28-Apr-25 21:38:23 | WARNING | No spindles were found in data. Returning None.\n"
     ]
    },
    {
     "name": "stdout",
     "output_type": "stream",
     "text": [
      "Extracting parameters from ourdata/data/sub114/session2.vhdr...\n",
      "Setting channel info structure...\n",
      "Reading 0 ... 1352815  =      0.000 ...  5411.260 secs...\n",
      "Filtering raw data in 1 contiguous segment\n",
      "Setting up band-pass filter from 0.3 - 45 Hz\n",
      "\n",
      "FIR filter parameters\n",
      "---------------------\n",
      "Designing a one-pass, zero-phase, non-causal bandpass filter:\n",
      "- Windowed time-domain design (firwin) method\n",
      "- Hamming window with 0.0194 passband ripple and 53 dB stopband attenuation\n",
      "- Lower passband edge: 0.30\n",
      "- Lower transition bandwidth: 0.30 Hz (-6 dB cutoff frequency: 0.15 Hz)\n",
      "- Upper passband edge: 45.00 Hz\n",
      "- Upper transition bandwidth: 5.00 Hz (-6 dB cutoff frequency: 47.50 Hz)\n",
      "- Filter length: 1101 samples (11.010 s)\n",
      "\n"
     ]
    },
    {
     "name": "stderr",
     "output_type": "stream",
     "text": []
    },
    {
     "name": "stdout",
     "output_type": "stream",
     "text": [
      "NOTE: pick_channels() is a legacy function. New code should use inst.pick(...).\n",
      "NOTE: pick_channels() is a legacy function. New code should use inst.pick(...).\n"
     ]
    },
    {
     "name": "stderr",
     "output_type": "stream",
     "text": [
      "Processing subjects:  30%|███       | 3/10 [06:05<14:11, 121.68s/it]"
     ]
    },
    {
     "name": "stdout",
     "output_type": "stream",
     "text": [
      "Extracting parameters from ourdata/data/sub118/session1.vhdr...\n",
      "Setting channel info structure...\n",
      "Reading 0 ... 1354783  =      0.000 ...  5419.132 secs...\n",
      "Filtering raw data in 1 contiguous segment\n",
      "Setting up band-pass filter from 0.3 - 45 Hz\n",
      "\n",
      "FIR filter parameters\n",
      "---------------------\n",
      "Designing a one-pass, zero-phase, non-causal bandpass filter:\n",
      "- Windowed time-domain design (firwin) method\n",
      "- Hamming window with 0.0194 passband ripple and 53 dB stopband attenuation\n",
      "- Lower passband edge: 0.30\n",
      "- Lower transition bandwidth: 0.30 Hz (-6 dB cutoff frequency: 0.15 Hz)\n",
      "- Upper passband edge: 45.00 Hz\n",
      "- Upper transition bandwidth: 5.00 Hz (-6 dB cutoff frequency: 47.50 Hz)\n",
      "- Filter length: 1101 samples (11.010 s)\n",
      "\n"
     ]
    },
    {
     "name": "stderr",
     "output_type": "stream",
     "text": []
    },
    {
     "name": "stdout",
     "output_type": "stream",
     "text": [
      "NOTE: pick_channels() is a legacy function. New code should use inst.pick(...).\n",
      "NOTE: pick_channels() is a legacy function. New code should use inst.pick(...).\n",
      "Extracting parameters from ourdata/data/sub118/session2.vhdr...\n",
      "Setting channel info structure...\n",
      "Reading 0 ... 1355535  =      0.000 ...  5422.140 secs...\n",
      "Filtering raw data in 1 contiguous segment\n",
      "Setting up band-pass filter from 0.3 - 45 Hz\n",
      "\n",
      "FIR filter parameters\n",
      "---------------------\n",
      "Designing a one-pass, zero-phase, non-causal bandpass filter:\n",
      "- Windowed time-domain design (firwin) method\n",
      "- Hamming window with 0.0194 passband ripple and 53 dB stopband attenuation\n",
      "- Lower passband edge: 0.30\n",
      "- Lower transition bandwidth: 0.30 Hz (-6 dB cutoff frequency: 0.15 Hz)\n",
      "- Upper passband edge: 45.00 Hz\n",
      "- Upper transition bandwidth: 5.00 Hz (-6 dB cutoff frequency: 47.50 Hz)\n",
      "- Filter length: 1101 samples (11.010 s)\n",
      "\n"
     ]
    },
    {
     "name": "stderr",
     "output_type": "stream",
     "text": []
    },
    {
     "name": "stdout",
     "output_type": "stream",
     "text": [
      "NOTE: pick_channels() is a legacy function. New code should use inst.pick(...).\n",
      "NOTE: pick_channels() is a legacy function. New code should use inst.pick(...).\n"
     ]
    },
    {
     "name": "stderr",
     "output_type": "stream",
     "text": [
      "Processing subjects:  40%|████      | 4/10 [08:13<12:24, 124.15s/it]"
     ]
    },
    {
     "name": "stdout",
     "output_type": "stream",
     "text": [
      "Extracting parameters from ourdata/data/sub123/session1.vhdr...\n",
      "Setting channel info structure...\n",
      "Reading 0 ... 1368655  =      0.000 ...  5474.620 secs...\n",
      "Filtering raw data in 1 contiguous segment\n",
      "Setting up band-pass filter from 0.3 - 45 Hz\n",
      "\n",
      "FIR filter parameters\n",
      "---------------------\n",
      "Designing a one-pass, zero-phase, non-causal bandpass filter:\n",
      "- Windowed time-domain design (firwin) method\n",
      "- Hamming window with 0.0194 passband ripple and 53 dB stopband attenuation\n",
      "- Lower passband edge: 0.30\n",
      "- Lower transition bandwidth: 0.30 Hz (-6 dB cutoff frequency: 0.15 Hz)\n",
      "- Upper passband edge: 45.00 Hz\n",
      "- Upper transition bandwidth: 5.00 Hz (-6 dB cutoff frequency: 47.50 Hz)\n",
      "- Filter length: 1101 samples (11.010 s)\n",
      "\n"
     ]
    },
    {
     "name": "stderr",
     "output_type": "stream",
     "text": []
    },
    {
     "name": "stdout",
     "output_type": "stream",
     "text": [
      "NOTE: pick_channels() is a legacy function. New code should use inst.pick(...).\n",
      "NOTE: pick_channels() is a legacy function. New code should use inst.pick(...).\n",
      "Extracting parameters from ourdata/data/sub123/session2.vhdr...\n",
      "Setting channel info structure...\n",
      "Reading 0 ... 1355583  =      0.000 ...  5422.332 secs...\n",
      "Filtering raw data in 1 contiguous segment\n",
      "Setting up band-pass filter from 0.3 - 45 Hz\n",
      "\n",
      "FIR filter parameters\n",
      "---------------------\n",
      "Designing a one-pass, zero-phase, non-causal bandpass filter:\n",
      "- Windowed time-domain design (firwin) method\n",
      "- Hamming window with 0.0194 passband ripple and 53 dB stopband attenuation\n",
      "- Lower passband edge: 0.30\n",
      "- Lower transition bandwidth: 0.30 Hz (-6 dB cutoff frequency: 0.15 Hz)\n",
      "- Upper passband edge: 45.00 Hz\n",
      "- Upper transition bandwidth: 5.00 Hz (-6 dB cutoff frequency: 47.50 Hz)\n",
      "- Filter length: 1101 samples (11.010 s)\n",
      "\n"
     ]
    },
    {
     "name": "stderr",
     "output_type": "stream",
     "text": []
    },
    {
     "name": "stdout",
     "output_type": "stream",
     "text": [
      "NOTE: pick_channels() is a legacy function. New code should use inst.pick(...).\n",
      "NOTE: pick_channels() is a legacy function. New code should use inst.pick(...).\n"
     ]
    },
    {
     "name": "stderr",
     "output_type": "stream",
     "text": [
      "Processing subjects:  50%|█████     | 5/10 [10:17<10:19, 123.90s/it]"
     ]
    },
    {
     "name": "stdout",
     "output_type": "stream",
     "text": [
      "Extracting parameters from ourdata/data/sub205/session1.vhdr...\n",
      "Setting channel info structure...\n",
      "Reading 0 ... 1360735  =      0.000 ...  5442.940 secs...\n",
      "Filtering raw data in 1 contiguous segment\n",
      "Setting up band-pass filter from 0.3 - 45 Hz\n",
      "\n",
      "FIR filter parameters\n",
      "---------------------\n",
      "Designing a one-pass, zero-phase, non-causal bandpass filter:\n",
      "- Windowed time-domain design (firwin) method\n",
      "- Hamming window with 0.0194 passband ripple and 53 dB stopband attenuation\n",
      "- Lower passband edge: 0.30\n",
      "- Lower transition bandwidth: 0.30 Hz (-6 dB cutoff frequency: 0.15 Hz)\n",
      "- Upper passband edge: 45.00 Hz\n",
      "- Upper transition bandwidth: 5.00 Hz (-6 dB cutoff frequency: 47.50 Hz)\n",
      "- Filter length: 1101 samples (11.010 s)\n",
      "\n"
     ]
    },
    {
     "name": "stderr",
     "output_type": "stream",
     "text": []
    },
    {
     "name": "stdout",
     "output_type": "stream",
     "text": [
      "NOTE: pick_channels() is a legacy function. New code should use inst.pick(...).\n",
      "NOTE: pick_channels() is a legacy function. New code should use inst.pick(...).\n",
      "Extracting parameters from ourdata/data/sub205/session2.vhdr...\n",
      "Setting channel info structure...\n",
      "Reading 0 ... 1361519  =      0.000 ...  5446.076 secs...\n",
      "Filtering raw data in 1 contiguous segment\n",
      "Setting up band-pass filter from 0.3 - 45 Hz\n",
      "\n",
      "FIR filter parameters\n",
      "---------------------\n",
      "Designing a one-pass, zero-phase, non-causal bandpass filter:\n",
      "- Windowed time-domain design (firwin) method\n",
      "- Hamming window with 0.0194 passband ripple and 53 dB stopband attenuation\n",
      "- Lower passband edge: 0.30\n",
      "- Lower transition bandwidth: 0.30 Hz (-6 dB cutoff frequency: 0.15 Hz)\n",
      "- Upper passband edge: 45.00 Hz\n",
      "- Upper transition bandwidth: 5.00 Hz (-6 dB cutoff frequency: 47.50 Hz)\n",
      "- Filter length: 1101 samples (11.010 s)\n",
      "\n"
     ]
    },
    {
     "name": "stderr",
     "output_type": "stream",
     "text": []
    },
    {
     "name": "stdout",
     "output_type": "stream",
     "text": [
      "NOTE: pick_channels() is a legacy function. New code should use inst.pick(...).\n",
      "NOTE: pick_channels() is a legacy function. New code should use inst.pick(...).\n"
     ]
    },
    {
     "name": "stderr",
     "output_type": "stream",
     "text": [
      "Processing subjects:  60%|██████    | 6/10 [12:26<08:22, 125.55s/it]"
     ]
    },
    {
     "name": "stdout",
     "output_type": "stream",
     "text": [
      "Extracting parameters from ourdata/data/sub206/session1.vhdr...\n",
      "Setting channel info structure...\n",
      "Reading 0 ... 1295375  =      0.000 ...  5181.500 secs...\n",
      "Filtering raw data in 1 contiguous segment\n",
      "Setting up band-pass filter from 0.3 - 45 Hz\n",
      "\n",
      "FIR filter parameters\n",
      "---------------------\n",
      "Designing a one-pass, zero-phase, non-causal bandpass filter:\n",
      "- Windowed time-domain design (firwin) method\n",
      "- Hamming window with 0.0194 passband ripple and 53 dB stopband attenuation\n",
      "- Lower passband edge: 0.30\n",
      "- Lower transition bandwidth: 0.30 Hz (-6 dB cutoff frequency: 0.15 Hz)\n",
      "- Upper passband edge: 45.00 Hz\n",
      "- Upper transition bandwidth: 5.00 Hz (-6 dB cutoff frequency: 47.50 Hz)\n",
      "- Filter length: 1101 samples (11.010 s)\n",
      "\n"
     ]
    },
    {
     "name": "stderr",
     "output_type": "stream",
     "text": []
    },
    {
     "name": "stdout",
     "output_type": "stream",
     "text": [
      "NOTE: pick_channels() is a legacy function. New code should use inst.pick(...).\n",
      "NOTE: pick_channels() is a legacy function. New code should use inst.pick(...).\n",
      "Extracting parameters from ourdata/data/sub206/session2.vhdr...\n",
      "Setting channel info structure...\n",
      "Reading 0 ... 1476751  =      0.000 ...  5907.004 secs...\n",
      "Filtering raw data in 1 contiguous segment\n",
      "Setting up band-pass filter from 0.3 - 45 Hz\n",
      "\n",
      "FIR filter parameters\n",
      "---------------------\n",
      "Designing a one-pass, zero-phase, non-causal bandpass filter:\n",
      "- Windowed time-domain design (firwin) method\n",
      "- Hamming window with 0.0194 passband ripple and 53 dB stopband attenuation\n",
      "- Lower passband edge: 0.30\n",
      "- Lower transition bandwidth: 0.30 Hz (-6 dB cutoff frequency: 0.15 Hz)\n",
      "- Upper passband edge: 45.00 Hz\n",
      "- Upper transition bandwidth: 5.00 Hz (-6 dB cutoff frequency: 47.50 Hz)\n",
      "- Filter length: 1101 samples (11.010 s)\n",
      "\n"
     ]
    },
    {
     "name": "stderr",
     "output_type": "stream",
     "text": []
    },
    {
     "name": "stdout",
     "output_type": "stream",
     "text": [
      "NOTE: pick_channels() is a legacy function. New code should use inst.pick(...).\n",
      "NOTE: pick_channels() is a legacy function. New code should use inst.pick(...).\n"
     ]
    },
    {
     "name": "stderr",
     "output_type": "stream",
     "text": [
      "Processing subjects:  70%|███████   | 7/10 [14:30<06:15, 125.20s/it]"
     ]
    },
    {
     "name": "stdout",
     "output_type": "stream",
     "text": [
      "Extracting parameters from ourdata/data/sub208/session1.vhdr...\n",
      "Setting channel info structure...\n",
      "Reading 0 ... 1355775  =      0.000 ...  5423.100 secs...\n",
      "Filtering raw data in 1 contiguous segment\n",
      "Setting up band-pass filter from 0.3 - 45 Hz\n",
      "\n",
      "FIR filter parameters\n",
      "---------------------\n",
      "Designing a one-pass, zero-phase, non-causal bandpass filter:\n",
      "- Windowed time-domain design (firwin) method\n",
      "- Hamming window with 0.0194 passband ripple and 53 dB stopband attenuation\n",
      "- Lower passband edge: 0.30\n",
      "- Lower transition bandwidth: 0.30 Hz (-6 dB cutoff frequency: 0.15 Hz)\n",
      "- Upper passband edge: 45.00 Hz\n",
      "- Upper transition bandwidth: 5.00 Hz (-6 dB cutoff frequency: 47.50 Hz)\n",
      "- Filter length: 1101 samples (11.010 s)\n",
      "\n"
     ]
    },
    {
     "name": "stderr",
     "output_type": "stream",
     "text": []
    },
    {
     "name": "stdout",
     "output_type": "stream",
     "text": [
      "NOTE: pick_channels() is a legacy function. New code should use inst.pick(...).\n",
      "NOTE: pick_channels() is a legacy function. New code should use inst.pick(...).\n",
      "Extracting parameters from ourdata/data/sub208/session2.vhdr...\n",
      "Setting channel info structure...\n",
      "Reading 0 ... 1356319  =      0.000 ...  5425.276 secs...\n",
      "Filtering raw data in 1 contiguous segment\n",
      "Setting up band-pass filter from 0.3 - 45 Hz\n",
      "\n",
      "FIR filter parameters\n",
      "---------------------\n",
      "Designing a one-pass, zero-phase, non-causal bandpass filter:\n",
      "- Windowed time-domain design (firwin) method\n",
      "- Hamming window with 0.0194 passband ripple and 53 dB stopband attenuation\n",
      "- Lower passband edge: 0.30\n",
      "- Lower transition bandwidth: 0.30 Hz (-6 dB cutoff frequency: 0.15 Hz)\n",
      "- Upper passband edge: 45.00 Hz\n",
      "- Upper transition bandwidth: 5.00 Hz (-6 dB cutoff frequency: 47.50 Hz)\n",
      "- Filter length: 1101 samples (11.010 s)\n",
      "\n"
     ]
    },
    {
     "name": "stderr",
     "output_type": "stream",
     "text": []
    },
    {
     "name": "stdout",
     "output_type": "stream",
     "text": [
      "NOTE: pick_channels() is a legacy function. New code should use inst.pick(...).\n",
      "NOTE: pick_channels() is a legacy function. New code should use inst.pick(...).\n"
     ]
    },
    {
     "name": "stderr",
     "output_type": "stream",
     "text": [
      "Processing subjects:  80%|████████  | 8/10 [16:40<04:13, 126.54s/it]"
     ]
    },
    {
     "name": "stdout",
     "output_type": "stream",
     "text": [
      "Extracting parameters from ourdata/data/sub220/session1.vhdr...\n",
      "Setting channel info structure...\n",
      "Reading 0 ... 181759  =      0.000 ...   727.036 secs...\n",
      "Filtering raw data in 1 contiguous segment\n",
      "Setting up band-pass filter from 0.3 - 45 Hz\n",
      "\n",
      "FIR filter parameters\n",
      "---------------------\n",
      "Designing a one-pass, zero-phase, non-causal bandpass filter:\n",
      "- Windowed time-domain design (firwin) method\n",
      "- Hamming window with 0.0194 passband ripple and 53 dB stopband attenuation\n",
      "- Lower passband edge: 0.30\n",
      "- Lower transition bandwidth: 0.30 Hz (-6 dB cutoff frequency: 0.15 Hz)\n",
      "- Upper passband edge: 45.00 Hz\n",
      "- Upper transition bandwidth: 5.00 Hz (-6 dB cutoff frequency: 47.50 Hz)\n",
      "- Filter length: 1101 samples (11.010 s)\n",
      "\n"
     ]
    },
    {
     "name": "stderr",
     "output_type": "stream",
     "text": []
    },
    {
     "name": "stdout",
     "output_type": "stream",
     "text": [
      "NOTE: pick_channels() is a legacy function. New code should use inst.pick(...).\n",
      "NOTE: pick_channels() is a legacy function. New code should use inst.pick(...).\n",
      "Extracting parameters from ourdata/data/sub220/session2.vhdr...\n",
      "Setting channel info structure...\n",
      "Reading 0 ... 1352959  =      0.000 ...  5411.836 secs...\n",
      "Filtering raw data in 1 contiguous segment\n",
      "Setting up band-pass filter from 0.3 - 45 Hz\n",
      "\n",
      "FIR filter parameters\n",
      "---------------------\n",
      "Designing a one-pass, zero-phase, non-causal bandpass filter:\n",
      "- Windowed time-domain design (firwin) method\n",
      "- Hamming window with 0.0194 passband ripple and 53 dB stopband attenuation\n",
      "- Lower passband edge: 0.30\n",
      "- Lower transition bandwidth: 0.30 Hz (-6 dB cutoff frequency: 0.15 Hz)\n",
      "- Upper passband edge: 45.00 Hz\n",
      "- Upper transition bandwidth: 5.00 Hz (-6 dB cutoff frequency: 47.50 Hz)\n",
      "- Filter length: 1101 samples (11.010 s)\n",
      "\n"
     ]
    },
    {
     "name": "stderr",
     "output_type": "stream",
     "text": []
    },
    {
     "name": "stdout",
     "output_type": "stream",
     "text": [
      "NOTE: pick_channels() is a legacy function. New code should use inst.pick(...).\n",
      "NOTE: pick_channels() is a legacy function. New code should use inst.pick(...).\n"
     ]
    },
    {
     "name": "stderr",
     "output_type": "stream",
     "text": [
      "Processing subjects:  90%|█████████ | 9/10 [18:02<01:52, 112.72s/it]"
     ]
    },
    {
     "name": "stdout",
     "output_type": "stream",
     "text": [
      "Extracting parameters from ourdata/data/sub224/session1.vhdr...\n",
      "Setting channel info structure...\n",
      "Reading 0 ... 338383  =      0.000 ...  1353.532 secs...\n",
      "Filtering raw data in 1 contiguous segment\n",
      "Setting up band-pass filter from 0.3 - 45 Hz\n",
      "\n",
      "FIR filter parameters\n",
      "---------------------\n",
      "Designing a one-pass, zero-phase, non-causal bandpass filter:\n",
      "- Windowed time-domain design (firwin) method\n",
      "- Hamming window with 0.0194 passband ripple and 53 dB stopband attenuation\n",
      "- Lower passband edge: 0.30\n",
      "- Lower transition bandwidth: 0.30 Hz (-6 dB cutoff frequency: 0.15 Hz)\n",
      "- Upper passband edge: 45.00 Hz\n",
      "- Upper transition bandwidth: 5.00 Hz (-6 dB cutoff frequency: 47.50 Hz)\n",
      "- Filter length: 1101 samples (11.010 s)\n",
      "\n"
     ]
    },
    {
     "name": "stderr",
     "output_type": "stream",
     "text": []
    },
    {
     "name": "stdout",
     "output_type": "stream",
     "text": [
      "NOTE: pick_channels() is a legacy function. New code should use inst.pick(...).\n",
      "NOTE: pick_channels() is a legacy function. New code should use inst.pick(...).\n",
      "Extracting parameters from ourdata/data/sub224/session2.vhdr...\n",
      "Setting channel info structure...\n",
      "Reading 0 ... 1356351  =      0.000 ...  5425.404 secs...\n",
      "Filtering raw data in 1 contiguous segment\n",
      "Setting up band-pass filter from 0.3 - 45 Hz\n",
      "\n",
      "FIR filter parameters\n",
      "---------------------\n",
      "Designing a one-pass, zero-phase, non-causal bandpass filter:\n",
      "- Windowed time-domain design (firwin) method\n",
      "- Hamming window with 0.0194 passband ripple and 53 dB stopband attenuation\n",
      "- Lower passband edge: 0.30\n",
      "- Lower transition bandwidth: 0.30 Hz (-6 dB cutoff frequency: 0.15 Hz)\n",
      "- Upper passband edge: 45.00 Hz\n",
      "- Upper transition bandwidth: 5.00 Hz (-6 dB cutoff frequency: 47.50 Hz)\n",
      "- Filter length: 1101 samples (11.010 s)\n",
      "\n"
     ]
    },
    {
     "name": "stderr",
     "output_type": "stream",
     "text": []
    },
    {
     "name": "stdout",
     "output_type": "stream",
     "text": [
      "NOTE: pick_channels() is a legacy function. New code should use inst.pick(...).\n",
      "NOTE: pick_channels() is a legacy function. New code should use inst.pick(...).\n"
     ]
    },
    {
     "name": "stderr",
     "output_type": "stream",
     "text": [
      "Processing subjects: 100%|██████████| 10/10 [22:24<00:00, 134.42s/it]\n"
     ]
    },
    {
     "name": "stdout",
     "output_type": "stream",
     "text": [
      "\n",
      "=== Spindle Detection Validation Summary ===\n",
      "Total subjects processed: 10\n",
      "Total sessions processed: 2\n",
      "Average F1 score: 0.3655 ± 0.1643\n",
      "Average precision: 0.4355 ± 0.1621\n",
      "Average recall: 0.3424 ± 0.1903\n",
      "\n",
      "=== Spindle Count Comparison ===\n",
      "Total YASA spindles: 2514\n",
      "Total real-time spindles: 2137\n",
      "Total matching spindles: 1041\n",
      "Overall precision: 0.4871\n",
      "Overall recall: 0.4141\n"
     ]
    }
   ],
   "source": [
    "import mne\n",
    "import yasa\n",
    "import numpy as np\n",
    "import pandas as pd\n",
    "import matplotlib.pyplot as plt\n",
    "import seaborn as sns\n",
    "from tqdm import tqdm\n",
    "import os\n",
    "import warnings\n",
    "warnings.filterwarnings('ignore')\n",
    "\n",
    "# Set random seed for reproducibility\n",
    "np.random.seed(42)\n",
    "\n",
    "# Define subjects and sessions\n",
    "subjects = [106, 107, 114, 118, 123, 205, 206, 208, 220, 224]\n",
    "sessions = [1, 2]\n",
    "\n",
    "# Initialize results DataFrame\n",
    "validation_results = pd.DataFrame(columns=[\n",
    "    'subject', 'session', 'channel',\n",
    "    'yasa_spindle_count', 'realtime_spindle_count',\n",
    "    'matching_spindles', 'precision', 'recall', 'f1_score'\n",
    "])\n",
    "\n",
    "# Function to check if spindles match\n",
    "def spindles_match(sp1, sp2, tolerance=0.3):\n",
    "    \"\"\"Check if two spindles match within a tolerance.\"\"\"\n",
    "    # Check if the start times are within tolerance\n",
    "    start_match = abs(sp1['Start'] - sp2['Start']) <= tolerance\n",
    "    # Check if the end times are within tolerance\n",
    "    end_match = abs(sp1['End'] - sp2['End']) <= tolerance\n",
    "    # Return True if either start or end match\n",
    "    return start_match or end_match\n",
    "\n",
    "# Process all subjects and sessions\n",
    "for subject in tqdm(subjects, desc=\"Processing subjects\"):\n",
    "    for session in sessions:\n",
    "        try:\n",
    "            # Construct file path\n",
    "            eeg_path = f'ourdata/data/sub{subject}/session{session}.vhdr'\n",
    "            \n",
    "            # Check if file exists\n",
    "            if not os.path.exists(eeg_path):\n",
    "                continue\n",
    "                \n",
    "            # Load EEG data\n",
    "            raw = mne.io.read_raw_brainvision(eeg_path, preload=True)\n",
    "            \n",
    "            # Preprocess\n",
    "            raw.resample(100)  # Downsample to 100 Hz for faster processing\n",
    "            raw.filter(0.3, 45)  # Bandpass filter\n",
    "            sf = raw.info['sfreq']\n",
    "            \n",
    "            # Drop non-EEG channels if they exist\n",
    "            channels_to_drop = ['EOG1', 'EOG2', 'EMG1', 'EMG2', 'Aux1', 'Aux2']\n",
    "            existing_channels = [ch for ch in channels_to_drop if ch in raw.ch_names]\n",
    "            if existing_channels:\n",
    "                raw.drop_channels(existing_channels)\n",
    "                \n",
    "            # Get updated channel names\n",
    "            chan = raw.ch_names\n",
    "            \n",
    "            # Check if required channels exist\n",
    "            if \"Cz\" not in chan or \"C3\" not in chan:\n",
    "                continue\n",
    "                \n",
    "            # Channels of interest\n",
    "            # Continuing from the previous code...\n",
    "\n",
    "            # Channels of interest\n",
    "            channels_of_interest = [\"Cz\", \"C3\"]\n",
    "            \n",
    "            # Get data array\n",
    "            data = raw.get_data(units=\"uV\")\n",
    "            times = raw.times\n",
    "            \n",
    "            # Initialize real-time detector\n",
    "            rt_detector = RealTimeSpindleDetector(\n",
    "                sf=sf,\n",
    "                channel_names=channels_of_interest,\n",
    "                buffer_size=5.0,  # 5 second buffer\n",
    "                freq_sp=(12, 15),\n",
    "                freq_broad=(1, 30),\n",
    "                threshold_rel_pow=0.2,\n",
    "                threshold_corr=0.65,\n",
    "                threshold_rms=1.5,\n",
    "                min_duration=0.5,\n",
    "                max_duration=2.0\n",
    "            )\n",
    "            \n",
    "            # Process data in chunks to simulate real-time\n",
    "            chunk_size = int(2 * sf)  # 2000 ms chunks\n",
    "            n_chunks = len(times) // chunk_size\n",
    "            \n",
    "            # Initialize list to store real-time detected spindles\n",
    "            rt_spindles = []\n",
    "            \n",
    "            # Process data in chunks\n",
    "            for i in tqdm(range(n_chunks), desc=f\"Processing chunks for sub{subject}_sess{session}\", leave=False):\n",
    "                # Get chunk\n",
    "                start_idx = i * chunk_size\n",
    "                end_idx = min((i + 1) * chunk_size, len(times))\n",
    "                \n",
    "                # Extract data for channels of interest\n",
    "                chunk_data = np.zeros((len(channels_of_interest), end_idx - start_idx))\n",
    "                for j, ch in enumerate(channels_of_interest):\n",
    "                    ch_idx = chan.index(ch)\n",
    "                    chunk_data[j, :] = data[ch_idx, start_idx:end_idx]\n",
    "                \n",
    "                # Update detector with new chunk\n",
    "                new_spindles = rt_detector.update(chunk_data, times[start_idx:end_idx])\n",
    "                rt_spindles.extend(new_spindles)\n",
    "            \n",
    "            # Get all real-time detected spindles\n",
    "            rt_spindles_df = rt_detector.get_all_spindles()\n",
    "            \n",
    "            # Run YASA offline detection for comparison\n",
    "            yasa_spindles = {}\n",
    "            for channel in channels_of_interest:\n",
    "                # Create a copy with only this channel\n",
    "                raw_channel = raw.copy().pick_channels([channel])\n",
    "                \n",
    "                # Detect spindles using YASA\n",
    "                sp = yasa.spindles_detect(\n",
    "                    raw_channel,\n",
    "                    freq_sp=(12, 15),\n",
    "                    duration=(0.5, 2),\n",
    "                    thresh={'rel_pow': 0.2, 'corr': 0.65, 'rms': 1.5},\n",
    "                    remove_outliers=True\n",
    "                )\n",
    "                \n",
    "                if sp is not None:\n",
    "                    yasa_spindles[channel] = sp.summary()\n",
    "                else:\n",
    "                    yasa_spindles[channel] = pd.DataFrame()\n",
    "            \n",
    "            # Compare real-time and offline detection for each channel\n",
    "            for channel in channels_of_interest:\n",
    "                # Get spindles for this channel\n",
    "                if channel in yasa_spindles:\n",
    "                    yasa_sp = yasa_spindles[channel]\n",
    "                else:\n",
    "                    yasa_sp = pd.DataFrame()\n",
    "                \n",
    "                rt_sp = rt_spindles_df[rt_spindles_df['Channel'] == channel] if not rt_spindles_df.empty else pd.DataFrame()\n",
    "                \n",
    "                # Count spindles\n",
    "                yasa_count = len(yasa_sp)\n",
    "                rt_count = len(rt_sp)\n",
    "                \n",
    "                # Calculate matching spindles\n",
    "                matching = 0\n",
    "                if not yasa_sp.empty and not rt_sp.empty:\n",
    "                    for _, yasa_spindle in yasa_sp.iterrows():\n",
    "                        for _, rt_spindle in rt_sp.iterrows():\n",
    "                            if spindles_match(yasa_spindle, rt_spindle, tolerance=0.3):\n",
    "                                matching += 1\n",
    "                                break\n",
    "                \n",
    "                # Calculate precision, recall, and F1 score\n",
    "                precision = matching / rt_count if rt_count > 0 else 0\n",
    "                recall = matching / yasa_count if yasa_count > 0 else 0\n",
    "                f1 = 2 * precision * recall / (precision + recall) if (precision + recall) > 0 else 0\n",
    "                \n",
    "                # Add to results\n",
    "                validation_results = pd.concat([validation_results, pd.DataFrame([{\n",
    "                    'subject': subject,\n",
    "                    'session': session,\n",
    "                    'channel': channel,\n",
    "                    'yasa_spindle_count': yasa_count,\n",
    "                    'realtime_spindle_count': rt_count,\n",
    "                    'matching_spindles': matching,\n",
    "                    'precision': precision,\n",
    "                    'recall': recall,\n",
    "                    'f1_score': f1\n",
    "                }])], ignore_index=True)\n",
    "                \n",
    "                # Create visualization of the comparison\n",
    "                if yasa_count > 0 or rt_count > 0:\n",
    "                    fig, axes = plt.subplots(3, 1, figsize=(15, 10), sharex=True)\n",
    "                    \n",
    "                    # Plot EEG data\n",
    "                    ch_idx = chan.index(channel)\n",
    "                    axes[0].plot(times, data[ch_idx, :], 'k-', lw=0.5)\n",
    "                    axes[0].set_ylabel('Amplitude (µV)')\n",
    "                    axes[0].set_title(f'EEG - {channel}')\n",
    "                    \n",
    "                    # Plot YASA spindles\n",
    "                    if not yasa_sp.empty:\n",
    "                        for _, sp in yasa_sp.iterrows():\n",
    "                            axes[0].axvspan(sp['Start'], sp['End'], alpha=0.3, color='blue')\n",
    "                    \n",
    "                    # Plot real-time detection\n",
    "                    axes[1].plot(times, data[ch_idx, :], 'k-', lw=0.5)\n",
    "                    axes[1].set_ylabel('Amplitude (µV)')\n",
    "                    axes[1].set_title(f'Real-time Detection - {channel}')\n",
    "                    \n",
    "                    if not rt_sp.empty:\n",
    "                        for _, sp in rt_sp.iterrows():\n",
    "                            axes[1].axvspan(sp['Start'], sp['End'], alpha=0.3, color='red')\n",
    "                    \n",
    "                    # Plot comparison\n",
    "                    axes[2].plot(times, data[ch_idx, :], 'k-', lw=0.5)\n",
    "                    axes[2].set_ylabel('Amplitude (µV)')\n",
    "                    axes[2].set_title('Comparison (Blue: YASA, Red: Real-time, Purple: Matching)')\n",
    "                    axes[2].set_xlabel('Time (s)')\n",
    "                    \n",
    "                    # Plot YASA spindles\n",
    "                    if not yasa_sp.empty:\n",
    "                        for _, sp in yasa_sp.iterrows():\n",
    "                            # Check if this spindle matches any real-time spindle\n",
    "                            is_matching = False\n",
    "                            if not rt_sp.empty:\n",
    "                                for _, rt_sp_single in rt_sp.iterrows():\n",
    "                                    if spindles_match(sp, rt_sp_single, tolerance=0.3):\n",
    "                                        is_matching = True\n",
    "                                        break\n",
    "                            \n",
    "                            color = 'purple' if is_matching else 'blue'\n",
    "                            axes[2].axvspan(sp['Start'], sp['End'], alpha=0.3, color=color)\n",
    "                    \n",
    "                    # Plot real-time spindles that don't match YASA\n",
    "                    if not rt_sp.empty:\n",
    "                        for _, sp in rt_sp.iterrows():\n",
    "                            # Check if this spindle matches any YASA spindle\n",
    "                            is_matching = False\n",
    "                            if not yasa_sp.empty:\n",
    "                                for _, yasa_sp_single in yasa_sp.iterrows():\n",
    "                                    if spindles_match(sp, yasa_sp_single, tolerance=0.3):\n",
    "                                        is_matching = True\n",
    "                                        break\n",
    "                            \n",
    "                            if not is_matching:\n",
    "                                axes[2].axvspan(sp['Start'], sp['End'], alpha=0.3, color='red')\n",
    "                    \n",
    "                    plt.tight_layout()\n",
    "                    plt.savefig(f'spindle_comparison_sub{subject}_sess{session}_{channel}.png', dpi=300)\n",
    "                    plt.close()\n",
    "        \n",
    "        except Exception as e:\n",
    "            print(f\"Error processing subject {subject}, session {session}: {e}\")\n",
    "            continue\n",
    "\n",
    "# Save validation results\n",
    "validation_results.to_csv('spindle_validation_results.csv', index=False)\n",
    "\n",
    "# Create summary visualizations\n",
    "plt.figure(figsize=(10, 6))\n",
    "sns.boxplot(x='channel', y='f1_score', data=validation_results)\n",
    "plt.title('F1 Score by Channel')\n",
    "plt.ylabel('F1 Score')\n",
    "plt.ylim(0, 1)\n",
    "plt.tight_layout()\n",
    "plt.savefig('spindle_f1_score_by_channel.png', dpi=300)\n",
    "plt.close()\n",
    "\n",
    "# Plot precision and recall\n",
    "plt.figure(figsize=(12, 6))\n",
    "plt.subplot(1, 2, 1)\n",
    "sns.boxplot(x='channel', y='precision', data=validation_results)\n",
    "plt.title('Precision by Channel')\n",
    "plt.ylabel('Precision')\n",
    "plt.ylim(0, 1)\n",
    "\n",
    "plt.subplot(1, 2, 2)\n",
    "sns.boxplot(x='channel', y='recall', data=validation_results)\n",
    "plt.title('Recall by Channel')\n",
    "plt.ylabel('Recall')\n",
    "plt.ylim(0, 1)\n",
    "\n",
    "plt.tight_layout()\n",
    "plt.savefig('spindle_precision_recall_by_channel.png', dpi=300)\n",
    "plt.close()\n",
    "\n",
    "# Print summary statistics\n",
    "print(\"\\n=== Spindle Detection Validation Summary ===\")\n",
    "print(f\"Total subjects processed: {validation_results['subject'].nunique()}\")\n",
    "print(f\"Total sessions processed: {validation_results['session'].nunique()}\")\n",
    "print(f\"Average F1 score: {validation_results['f1_score'].mean():.4f} ± {validation_results['f1_score'].std():.4f}\")\n",
    "print(f\"Average precision: {validation_results['precision'].mean():.4f} ± {validation_results['precision'].std():.4f}\")\n",
    "print(f\"Average recall: {validation_results['recall'].mean():.4f} ± {validation_results['recall'].std():.4f}\")\n",
    "\n",
    "# Compare spindle counts\n",
    "print(\"\\n=== Spindle Count Comparison ===\")\n",
    "total_yasa = validation_results['yasa_spindle_count'].sum()\n",
    "total_rt = validation_results['realtime_spindle_count'].sum()\n",
    "total_matching = validation_results['matching_spindles'].sum()\n",
    "print(f\"Total YASA spindles: {total_yasa}\")\n",
    "print(f\"Total real-time spindles: {total_rt}\")\n",
    "print(f\"Total matching spindles: {total_matching}\")\n",
    "print(f\"Overall precision: {total_matching / total_rt if total_rt > 0 else 0:.4f}\")\n",
    "print(f\"Overall recall: {total_matching / total_yasa if total_yasa > 0 else 0:.4f}\")"
   ]
  }
 ],
 "metadata": {
  "kernelspec": {
   "display_name": ".venv_eeg",
   "language": "python",
   "name": "python3"
  },
  "language_info": {
   "codemirror_mode": {
    "name": "ipython",
    "version": 3
   },
   "file_extension": ".py",
   "mimetype": "text/x-python",
   "name": "python",
   "nbconvert_exporter": "python",
   "pygments_lexer": "ipython3",
   "version": "3.13.3"
  }
 },
 "nbformat": 4,
 "nbformat_minor": 5
}
